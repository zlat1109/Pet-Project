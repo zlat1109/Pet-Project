{
 "cells": [
  {
   "cell_type": "markdown",
   "id": "e4bc3b52",
   "metadata": {
    "toc": true
   },
   "source": [
    "<h1>Table of Contents<span class=\"tocSkip\"></span></h1>\n",
    "<div class=\"toc\"><ul class=\"toc-item\"></ul></div>"
   ]
  },
  {
   "cell_type": "code",
   "execution_count": 25,
   "id": "30082249",
   "metadata": {},
   "outputs": [],
   "source": [
    "import pandas as pd"
   ]
  },
  {
   "cell_type": "code",
   "execution_count": 26,
   "id": "9d9b27f4",
   "metadata": {},
   "outputs": [],
   "source": [
    "clubs = pd.read_excel(r'C:\\Users\\Balak\\OneDrive\\Рабочий стол\\Pet project\\ASH\\dancers\\Clubs.xlsx')"
   ]
  },
  {
   "cell_type": "code",
   "execution_count": 27,
   "id": "5f774ce4",
   "metadata": {},
   "outputs": [],
   "source": [
    "club_city = clubs['club_name'].str.split('(',expand=True)"
   ]
  },
  {
   "cell_type": "code",
   "execution_count": 28,
   "id": "068eb410",
   "metadata": {},
   "outputs": [],
   "source": [
    "club_city.columns = ['club_name', 'club_city']"
   ]
  },
  {
   "cell_type": "code",
   "execution_count": 42,
   "id": "772d0402",
   "metadata": {},
   "outputs": [],
   "source": [
    "cols = ['club_city']\n",
    "for col in cols:\n",
    "    club_city[col] = club_city[col].map(lambda x: str(x).lstrip('г.').rstrip(')'))"
   ]
  },
  {
   "cell_type": "code",
   "execution_count": 46,
   "id": "7a213580",
   "metadata": {},
   "outputs": [
    {
     "data": {
      "text/plain": [
       "array(['None', 'Красноярск', 'СПб', 'Новосибирск', 'Саратов',\n",
       "       'Железногорск', 'Омск', 'Иваново', 'Кемерово', 'Новокузнецк',\n",
       "       'Курск', 'Клин', 'Барнаул', 'Минск', 'В.Новгород', 'Фрязино',\n",
       "       'Томск', 'Ростов-на-Дону', 'Тверь', 'Выборг', 'Энгельс',\n",
       "       'Павлодар', 'Дубна', 'Санкт-Петербург', 'Таганрог', 'Новороссийск',\n",
       "       'Абакан', 'Екатеринбург', 'Владивосток', 'Хабаровск', 'Ставрополь',\n",
       "       'Уфа', 'Тюмень', 'Краснодар', 'Родники', 'Киров', 'Симферополь',\n",
       "       'Минусинск', 'Краков', 'Пенза', 'Зеленогорск', 'Владимир', 'Шуя',\n",
       "       'Геленджик', 'Уссурийск', 'Братск', 'Харьков', 'Кострома',\n",
       "       'Lausanne', 'Караганда', 'Сахалин', 'Сочи', 'Казань', 'Пущино',\n",
       "       'Воронеж', 'Калининград', 'Тольятти', 'Киев', 'Находка', 'Мытищи',\n",
       "       'Чебоксары', 'Ульяновск', 'Дортмунд', 'Челябинск', 'Poznan',\n",
       "       'Моск.обл.', 'Белгород'], dtype=object)"
      ]
     },
     "execution_count": 46,
     "metadata": {},
     "output_type": "execute_result"
    }
   ],
   "source": [
    "club_city['club_city'].unique()"
   ]
  },
  {
   "cell_type": "code",
   "execution_count": 52,
   "id": "aa984802",
   "metadata": {},
   "outputs": [],
   "source": [
    "club_city['club_city'] = club_city['club_city'].str.replace(\n",
    "                                                       'СПб', 'Санкт-Петербург'\n",
    "                                                      \n",
    ")"
   ]
  },
  {
   "cell_type": "code",
   "execution_count": 54,
   "id": "6c1cc090",
   "metadata": {},
   "outputs": [
    {
     "name": "stderr",
     "output_type": "stream",
     "text": [
      "C:\\Users\\Balak\\AppData\\Local\\Temp/ipykernel_38716/2405901902.py:1: FutureWarning: The default value of regex will change from True to False in a future version.\n",
      "  club_city['club_city'] = club_city['club_city'].str.replace(\n"
     ]
    }
   ],
   "source": [
    "club_city['club_city'] = club_city['club_city'].str.replace(\n",
    "                                                       'В.Новгород', 'Великий Новгород'\n",
    "                                                      \n",
    ")"
   ]
  },
  {
   "cell_type": "code",
   "execution_count": 53,
   "id": "e0577682",
   "metadata": {},
   "outputs": [
    {
     "name": "stderr",
     "output_type": "stream",
     "text": [
      "C:\\Users\\Balak\\AppData\\Local\\Temp/ipykernel_38716/3733894059.py:1: FutureWarning: The default value of regex will change from True to False in a future version.\n",
      "  club_city['club_city'] = club_city['club_city'].str.replace(\n"
     ]
    }
   ],
   "source": [
    "club_city['club_city'] = club_city['club_city'].str.replace(\n",
    "                                                       'Моск.обл.', 'Московская область'\n",
    "                                                      \n",
    ")"
   ]
  },
  {
   "cell_type": "code",
   "execution_count": 55,
   "id": "8c111842",
   "metadata": {},
   "outputs": [
    {
     "data": {
      "text/plain": [
       "array(['None', 'Красноярск', 'Санкт-Петербург', 'Новосибирск', 'Саратов',\n",
       "       'Железногорск', 'Омск', 'Иваново', 'Кемерово', 'Новокузнецк',\n",
       "       'Курск', 'Клин', 'Барнаул', 'Минск', 'Великий Новгород', 'Фрязино',\n",
       "       'Томск', 'Ростов-на-Дону', 'Тверь', 'Выборг', 'Энгельс',\n",
       "       'Павлодар', 'Дубна', 'Таганрог', 'Новороссийск', 'Абакан',\n",
       "       'Екатеринбург', 'Владивосток', 'Хабаровск', 'Ставрополь', 'Уфа',\n",
       "       'Тюмень', 'Краснодар', 'Родники', 'Киров', 'Симферополь',\n",
       "       'Минусинск', 'Краков', 'Пенза', 'Зеленогорск', 'Владимир', 'Шуя',\n",
       "       'Геленджик', 'Уссурийск', 'Братск', 'Харьков', 'Кострома',\n",
       "       'Lausanne', 'Караганда', 'Сахалин', 'Сочи', 'Казань', 'Пущино',\n",
       "       'Воронеж', 'Калининград', 'Тольятти', 'Киев', 'Находка', 'Мытищи',\n",
       "       'Чебоксары', 'Ульяновск', 'Дортмунд', 'Челябинск', 'Poznan',\n",
       "       'Московская область', 'Белгород'], dtype=object)"
      ]
     },
     "execution_count": 55,
     "metadata": {},
     "output_type": "execute_result"
    }
   ],
   "source": [
    "club_city['club_city'].unique()"
   ]
  },
  {
   "cell_type": "code",
   "execution_count": 59,
   "id": "cb911ba9",
   "metadata": {},
   "outputs": [
    {
     "data": {
      "text/plain": [
       "array(['2H-club', 'AT-Dance', 'Dance College Club', 'Nice Dance',\n",
       "       'DanceStyle', 'F Club', 'Hostel Hustle', 'Ivara', 'N-Club',\n",
       "       'Nova Dance Studio', 'Open Dance Studio', 'Profi-Dance', 'RedHop',\n",
       "       'Reverie Dance', 'S-клуб', 'Tanto', 'Vesta', 'Sergio dance',\n",
       "       'Алекс Хастл-Клуб', 'Альтернатива', 'Априори', 'БиС', 'Богема',\n",
       "       'В-12', 'Визави', 'Виктория', 'Данцарто', 'Движение', 'Дизайн',\n",
       "       'Индиго', 'Красный уголок', 'Остров', 'Профи-Данс', 'Пульс',\n",
       "       'Ритм', 'Самарский хастл-клуб', 'Спартак', 'Стиль',\n",
       "       'студия Александра Красильникова', 'Студия Виктории Деминой',\n",
       "       'Студия С.Спиридонова', 'СХК', 'ТВИКS', 'Динамика', 'Хастл-Центр',\n",
       "       'Центральный', 'Экспромт', 'Орион', 'Smile', 'LaDanza', 'AltroOne',\n",
       "       'Германия', 'DanceFirst', 'Magma', 'Мегаполис', 'Dance Drive',\n",
       "       'Эксельсиор', 'YouDance', 'Walzer', 'Poland', 'Aizek`s',\n",
       "       'DanceLab', 'Daily dance', 'AlphaDance', 'самост.',\n",
       "       'Мастерская Свободного Танца', 'Мартэ', 'GallaDance', 'RedRose',\n",
       "       'D.A.N.C.E.', 'ИнтерХастл', 'MMDance', 'Maximum', 'Unity',\n",
       "       'Триумф плюс'], dtype=object)"
      ]
     },
     "execution_count": 59,
     "metadata": {},
     "output_type": "execute_result"
    }
   ],
   "source": [
    "club_city[club_city['club_city'] == 'None']['club_name'].unique()"
   ]
  },
  {
   "cell_type": "code",
   "execution_count": 68,
   "id": "3ff9774d",
   "metadata": {},
   "outputs": [],
   "source": [
    "club_city.loc[club_city['club_name'] == 'Германия', 'club_city'] = 'Deutschland'"
   ]
  },
  {
   "cell_type": "code",
   "execution_count": 69,
   "id": "f5971d65",
   "metadata": {},
   "outputs": [
    {
     "data": {
      "text/html": [
       "<div>\n",
       "<style scoped>\n",
       "    .dataframe tbody tr th:only-of-type {\n",
       "        vertical-align: middle;\n",
       "    }\n",
       "\n",
       "    .dataframe tbody tr th {\n",
       "        vertical-align: top;\n",
       "    }\n",
       "\n",
       "    .dataframe thead th {\n",
       "        text-align: right;\n",
       "    }\n",
       "</style>\n",
       "<table border=\"1\" class=\"dataframe\">\n",
       "  <thead>\n",
       "    <tr style=\"text-align: right;\">\n",
       "      <th></th>\n",
       "      <th>club_name</th>\n",
       "      <th>club_city</th>\n",
       "    </tr>\n",
       "  </thead>\n",
       "  <tbody>\n",
       "    <tr>\n",
       "      <th>119</th>\n",
       "      <td>Германия</td>\n",
       "      <td>Deutschland</td>\n",
       "    </tr>\n",
       "  </tbody>\n",
       "</table>\n",
       "</div>"
      ],
      "text/plain": [
       "    club_name    club_city\n",
       "119  Германия  Deutschland"
      ]
     },
     "execution_count": 69,
     "metadata": {},
     "output_type": "execute_result"
    }
   ],
   "source": [
    "club_city[club_city['club_name'] == 'Германия']"
   ]
  },
  {
   "cell_type": "code",
   "execution_count": 70,
   "id": "f220c7ab",
   "metadata": {},
   "outputs": [],
   "source": [
    "club_city.loc[club_city['club_name'] == 'Триумф плюс', 'club_city'] = 'Санкт-Петербург'"
   ]
  },
  {
   "cell_type": "code",
   "execution_count": 71,
   "id": "61981d92",
   "metadata": {},
   "outputs": [
    {
     "data": {
      "text/html": [
       "<div>\n",
       "<style scoped>\n",
       "    .dataframe tbody tr th:only-of-type {\n",
       "        vertical-align: middle;\n",
       "    }\n",
       "\n",
       "    .dataframe tbody tr th {\n",
       "        vertical-align: top;\n",
       "    }\n",
       "\n",
       "    .dataframe thead th {\n",
       "        text-align: right;\n",
       "    }\n",
       "</style>\n",
       "<table border=\"1\" class=\"dataframe\">\n",
       "  <thead>\n",
       "    <tr style=\"text-align: right;\">\n",
       "      <th></th>\n",
       "      <th>club_name</th>\n",
       "      <th>club_city</th>\n",
       "    </tr>\n",
       "  </thead>\n",
       "  <tbody>\n",
       "    <tr>\n",
       "      <th>0</th>\n",
       "      <td>2H-club</td>\n",
       "      <td>None</td>\n",
       "    </tr>\n",
       "    <tr>\n",
       "      <th>1</th>\n",
       "      <td>AT-Dance</td>\n",
       "      <td>None</td>\n",
       "    </tr>\n",
       "    <tr>\n",
       "      <th>2</th>\n",
       "      <td>Baila&amp;Dance</td>\n",
       "      <td>Красноярск</td>\n",
       "    </tr>\n",
       "    <tr>\n",
       "      <th>3</th>\n",
       "      <td>Caminito</td>\n",
       "      <td>Санкт-Петербург</td>\n",
       "    </tr>\n",
       "    <tr>\n",
       "      <th>4</th>\n",
       "      <td>Dance College Club</td>\n",
       "      <td>None</td>\n",
       "    </tr>\n",
       "    <tr>\n",
       "      <th>...</th>\n",
       "      <td>...</td>\n",
       "      <td>...</td>\n",
       "    </tr>\n",
       "    <tr>\n",
       "      <th>263</th>\n",
       "      <td>Let's Go!</td>\n",
       "      <td>Московская область</td>\n",
       "    </tr>\n",
       "    <tr>\n",
       "      <th>264</th>\n",
       "      <td>5 элемент</td>\n",
       "      <td>Казань</td>\n",
       "    </tr>\n",
       "    <tr>\n",
       "      <th>265</th>\n",
       "      <td>самост.</td>\n",
       "      <td>Белгород</td>\n",
       "    </tr>\n",
       "    <tr>\n",
       "      <th>266</th>\n",
       "      <td>FamiDa</td>\n",
       "      <td>Новокузнецк</td>\n",
       "    </tr>\n",
       "    <tr>\n",
       "      <th>267</th>\n",
       "      <td>STartDANCE</td>\n",
       "      <td>Барнаул</td>\n",
       "    </tr>\n",
       "  </tbody>\n",
       "</table>\n",
       "<p>268 rows × 2 columns</p>\n",
       "</div>"
      ],
      "text/plain": [
       "              club_name           club_city\n",
       "0               2H-club                None\n",
       "1              AT-Dance                None\n",
       "2          Baila&Dance           Красноярск\n",
       "3             Caminito      Санкт-Петербург\n",
       "4    Dance College Club                None\n",
       "..                  ...                 ...\n",
       "263          Let's Go!   Московская область\n",
       "264          5 элемент               Казань\n",
       "265            самост.             Белгород\n",
       "266             FamiDa          Новокузнецк\n",
       "267         STartDANCE              Барнаул\n",
       "\n",
       "[268 rows x 2 columns]"
      ]
     },
     "execution_count": 71,
     "metadata": {},
     "output_type": "execute_result"
    }
   ],
   "source": [
    "club_city"
   ]
  },
  {
   "cell_type": "code",
   "execution_count": 73,
   "id": "8a829bbc",
   "metadata": {},
   "outputs": [
    {
     "data": {
      "text/html": [
       "<div>\n",
       "<style scoped>\n",
       "    .dataframe tbody tr th:only-of-type {\n",
       "        vertical-align: middle;\n",
       "    }\n",
       "\n",
       "    .dataframe tbody tr th {\n",
       "        vertical-align: top;\n",
       "    }\n",
       "\n",
       "    .dataframe thead th {\n",
       "        text-align: right;\n",
       "    }\n",
       "</style>\n",
       "<table border=\"1\" class=\"dataframe\">\n",
       "  <thead>\n",
       "    <tr style=\"text-align: right;\">\n",
       "      <th></th>\n",
       "      <th>club_name</th>\n",
       "      <th>club_city</th>\n",
       "    </tr>\n",
       "  </thead>\n",
       "  <tbody>\n",
       "    <tr>\n",
       "      <th>263</th>\n",
       "      <td>Let's Go!</td>\n",
       "      <td>Московская область</td>\n",
       "    </tr>\n",
       "  </tbody>\n",
       "</table>\n",
       "</div>"
      ],
      "text/plain": [
       "      club_name           club_city\n",
       "263  Let's Go!   Московская область"
      ]
     },
     "execution_count": 73,
     "metadata": {},
     "output_type": "execute_result"
    }
   ],
   "source": [
    "club_city[club_city['club_city'] == 'Московская область']"
   ]
  },
  {
   "cell_type": "code",
   "execution_count": 74,
   "id": "957d119d",
   "metadata": {},
   "outputs": [],
   "source": [
    "club_city['club_city'] = club_city['club_city'].str.replace(\n",
    "                                                       'Московская область', 'Красногорск'\n",
    "                                                      \n",
    ")"
   ]
  },
  {
   "cell_type": "code",
   "execution_count": 75,
   "id": "60eded0d",
   "metadata": {},
   "outputs": [
    {
     "data": {
      "text/html": [
       "<div>\n",
       "<style scoped>\n",
       "    .dataframe tbody tr th:only-of-type {\n",
       "        vertical-align: middle;\n",
       "    }\n",
       "\n",
       "    .dataframe tbody tr th {\n",
       "        vertical-align: top;\n",
       "    }\n",
       "\n",
       "    .dataframe thead th {\n",
       "        text-align: right;\n",
       "    }\n",
       "</style>\n",
       "<table border=\"1\" class=\"dataframe\">\n",
       "  <thead>\n",
       "    <tr style=\"text-align: right;\">\n",
       "      <th></th>\n",
       "      <th>club_name</th>\n",
       "      <th>club_city</th>\n",
       "    </tr>\n",
       "  </thead>\n",
       "  <tbody>\n",
       "    <tr>\n",
       "      <th>0</th>\n",
       "      <td>2H-club</td>\n",
       "      <td>None</td>\n",
       "    </tr>\n",
       "    <tr>\n",
       "      <th>1</th>\n",
       "      <td>AT-Dance</td>\n",
       "      <td>None</td>\n",
       "    </tr>\n",
       "    <tr>\n",
       "      <th>2</th>\n",
       "      <td>Baila&amp;Dance</td>\n",
       "      <td>Красноярск</td>\n",
       "    </tr>\n",
       "    <tr>\n",
       "      <th>3</th>\n",
       "      <td>Caminito</td>\n",
       "      <td>Санкт-Петербург</td>\n",
       "    </tr>\n",
       "    <tr>\n",
       "      <th>4</th>\n",
       "      <td>Dance College Club</td>\n",
       "      <td>None</td>\n",
       "    </tr>\n",
       "    <tr>\n",
       "      <th>...</th>\n",
       "      <td>...</td>\n",
       "      <td>...</td>\n",
       "    </tr>\n",
       "    <tr>\n",
       "      <th>263</th>\n",
       "      <td>Let's Go!</td>\n",
       "      <td>Красногорск</td>\n",
       "    </tr>\n",
       "    <tr>\n",
       "      <th>264</th>\n",
       "      <td>5 элемент</td>\n",
       "      <td>Казань</td>\n",
       "    </tr>\n",
       "    <tr>\n",
       "      <th>265</th>\n",
       "      <td>самост.</td>\n",
       "      <td>Белгород</td>\n",
       "    </tr>\n",
       "    <tr>\n",
       "      <th>266</th>\n",
       "      <td>FamiDa</td>\n",
       "      <td>Новокузнецк</td>\n",
       "    </tr>\n",
       "    <tr>\n",
       "      <th>267</th>\n",
       "      <td>STartDANCE</td>\n",
       "      <td>Барнаул</td>\n",
       "    </tr>\n",
       "  </tbody>\n",
       "</table>\n",
       "<p>268 rows × 2 columns</p>\n",
       "</div>"
      ],
      "text/plain": [
       "              club_name        club_city\n",
       "0               2H-club             None\n",
       "1              AT-Dance             None\n",
       "2          Baila&Dance        Красноярск\n",
       "3             Caminito   Санкт-Петербург\n",
       "4    Dance College Club             None\n",
       "..                  ...              ...\n",
       "263          Let's Go!       Красногорск\n",
       "264          5 элемент            Казань\n",
       "265            самост.          Белгород\n",
       "266             FamiDa       Новокузнецк\n",
       "267         STartDANCE           Барнаул\n",
       "\n",
       "[268 rows x 2 columns]"
      ]
     },
     "execution_count": 75,
     "metadata": {},
     "output_type": "execute_result"
    }
   ],
   "source": [
    "club_city"
   ]
  },
  {
   "cell_type": "code",
   "execution_count": 76,
   "id": "faf815b8",
   "metadata": {},
   "outputs": [],
   "source": [
    "club_city['club_city'] = club_city['club_city'].str.replace(\n",
    "                                                       'None', 'Москва'\n",
    "                                                      \n",
    ")"
   ]
  },
  {
   "cell_type": "code",
   "execution_count": 77,
   "id": "09ae2a4f",
   "metadata": {},
   "outputs": [
    {
     "data": {
      "text/html": [
       "<div>\n",
       "<style scoped>\n",
       "    .dataframe tbody tr th:only-of-type {\n",
       "        vertical-align: middle;\n",
       "    }\n",
       "\n",
       "    .dataframe tbody tr th {\n",
       "        vertical-align: top;\n",
       "    }\n",
       "\n",
       "    .dataframe thead th {\n",
       "        text-align: right;\n",
       "    }\n",
       "</style>\n",
       "<table border=\"1\" class=\"dataframe\">\n",
       "  <thead>\n",
       "    <tr style=\"text-align: right;\">\n",
       "      <th></th>\n",
       "      <th>club_name</th>\n",
       "      <th>club_city</th>\n",
       "    </tr>\n",
       "  </thead>\n",
       "  <tbody>\n",
       "    <tr>\n",
       "      <th>0</th>\n",
       "      <td>2H-club</td>\n",
       "      <td>Москва</td>\n",
       "    </tr>\n",
       "    <tr>\n",
       "      <th>1</th>\n",
       "      <td>AT-Dance</td>\n",
       "      <td>Москва</td>\n",
       "    </tr>\n",
       "    <tr>\n",
       "      <th>2</th>\n",
       "      <td>Baila&amp;Dance</td>\n",
       "      <td>Красноярск</td>\n",
       "    </tr>\n",
       "    <tr>\n",
       "      <th>3</th>\n",
       "      <td>Caminito</td>\n",
       "      <td>Санкт-Петербург</td>\n",
       "    </tr>\n",
       "    <tr>\n",
       "      <th>4</th>\n",
       "      <td>Dance College Club</td>\n",
       "      <td>Москва</td>\n",
       "    </tr>\n",
       "    <tr>\n",
       "      <th>...</th>\n",
       "      <td>...</td>\n",
       "      <td>...</td>\n",
       "    </tr>\n",
       "    <tr>\n",
       "      <th>263</th>\n",
       "      <td>Let's Go!</td>\n",
       "      <td>Красногорск</td>\n",
       "    </tr>\n",
       "    <tr>\n",
       "      <th>264</th>\n",
       "      <td>5 элемент</td>\n",
       "      <td>Казань</td>\n",
       "    </tr>\n",
       "    <tr>\n",
       "      <th>265</th>\n",
       "      <td>самост.</td>\n",
       "      <td>Белгород</td>\n",
       "    </tr>\n",
       "    <tr>\n",
       "      <th>266</th>\n",
       "      <td>FamiDa</td>\n",
       "      <td>Новокузнецк</td>\n",
       "    </tr>\n",
       "    <tr>\n",
       "      <th>267</th>\n",
       "      <td>STartDANCE</td>\n",
       "      <td>Барнаул</td>\n",
       "    </tr>\n",
       "  </tbody>\n",
       "</table>\n",
       "<p>268 rows × 2 columns</p>\n",
       "</div>"
      ],
      "text/plain": [
       "              club_name        club_city\n",
       "0               2H-club           Москва\n",
       "1              AT-Dance           Москва\n",
       "2          Baila&Dance        Красноярск\n",
       "3             Caminito   Санкт-Петербург\n",
       "4    Dance College Club           Москва\n",
       "..                  ...              ...\n",
       "263          Let's Go!       Красногорск\n",
       "264          5 элемент            Казань\n",
       "265            самост.          Белгород\n",
       "266             FamiDa       Новокузнецк\n",
       "267         STartDANCE           Барнаул\n",
       "\n",
       "[268 rows x 2 columns]"
      ]
     },
     "execution_count": 77,
     "metadata": {},
     "output_type": "execute_result"
    }
   ],
   "source": [
    "club_city"
   ]
  },
  {
   "cell_type": "code",
   "execution_count": 78,
   "id": "5e5e48aa",
   "metadata": {},
   "outputs": [
    {
     "data": {
      "text/html": [
       "<div>\n",
       "<style scoped>\n",
       "    .dataframe tbody tr th:only-of-type {\n",
       "        vertical-align: middle;\n",
       "    }\n",
       "\n",
       "    .dataframe tbody tr th {\n",
       "        vertical-align: top;\n",
       "    }\n",
       "\n",
       "    .dataframe thead th {\n",
       "        text-align: right;\n",
       "    }\n",
       "</style>\n",
       "<table border=\"1\" class=\"dataframe\">\n",
       "  <thead>\n",
       "    <tr style=\"text-align: right;\">\n",
       "      <th></th>\n",
       "      <th>club_name</th>\n",
       "      <th>club_city</th>\n",
       "    </tr>\n",
       "  </thead>\n",
       "  <tbody>\n",
       "    <tr>\n",
       "      <th>174</th>\n",
       "      <td>самост.</td>\n",
       "      <td>Москва</td>\n",
       "    </tr>\n",
       "  </tbody>\n",
       "</table>\n",
       "</div>"
      ],
      "text/plain": [
       "    club_name club_city\n",
       "174   самост.    Москва"
      ]
     },
     "execution_count": 78,
     "metadata": {},
     "output_type": "execute_result"
    }
   ],
   "source": [
    "club_city[club_city['club_name'] == 'самост.']"
   ]
  },
  {
   "cell_type": "code",
   "execution_count": null,
   "id": "e114690f",
   "metadata": {},
   "outputs": [],
   "source": []
  }
 ],
 "metadata": {
  "kernelspec": {
   "display_name": "Python 3 (ipykernel)",
   "language": "python",
   "name": "python3"
  },
  "language_info": {
   "codemirror_mode": {
    "name": "ipython",
    "version": 3
   },
   "file_extension": ".py",
   "mimetype": "text/x-python",
   "name": "python",
   "nbconvert_exporter": "python",
   "pygments_lexer": "ipython3",
   "version": "3.9.7"
  },
  "toc": {
   "base_numbering": 1,
   "nav_menu": {},
   "number_sections": true,
   "sideBar": true,
   "skip_h1_title": true,
   "title_cell": "Table of Contents",
   "title_sidebar": "Contents",
   "toc_cell": true,
   "toc_position": {},
   "toc_section_display": true,
   "toc_window_display": true
  }
 },
 "nbformat": 4,
 "nbformat_minor": 5
}
